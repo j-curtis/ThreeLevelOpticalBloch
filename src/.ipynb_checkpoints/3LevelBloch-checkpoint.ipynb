{
 "cells": [
  {
   "cell_type": "code",
   "execution_count": 1,
   "metadata": {
    "collapsed": true
   },
   "outputs": [],
   "source": [
    "import numpy as np\n",
    "import qutip as qt\n",
    "from matplotlib import pyplot as plt"
   ]
  },
  {
   "cell_type": "code",
   "execution_count": 5,
   "metadata": {
    "collapsed": true
   },
   "outputs": [],
   "source": [
    "###Now we define the states/operators of the three level atom\n",
    "state1,state2,state3 = qt.states.qutrit_basis() #These are the three levels of our atom\n",
    "\n",
    "sig12 = state1*state2.dag()\n",
    "sig21 = sig12.dag()\n",
    "sig13 = state1*state3.dag()\n",
    "sig31 = sig13.dag()\n",
    "\n",
    "sig11 = state1*state1.dag()\n",
    "sig22 = state2*state2.dag()\n",
    "sig33 = state3*state3.dag()"
   ]
  },
  {
   "cell_type": "code",
   "execution_count": 95,
   "metadata": {
    "collapsed": false
   },
   "outputs": [],
   "source": [
    "###We now define the Hamiltonian \n",
    "#We first consider the case where there is no detuning; only Rabi couplings\n",
    "#We also start in the Lambda scheme so that the drives are applied as 2->1, 3->1\n",
    "#We add detunings to the 2 and 3 levels of Delta2 and Delta3 \n",
    "def H(Omega2,Omega3,Delta2,Delta3):\n",
    "    return .5*Omega2*(sig12+sig21) + .5*Omega3*(sig13+sig31) + Delta2*sig22 + Delta3*sig33"
   ]
  },
  {
   "cell_type": "code",
   "execution_count": 96,
   "metadata": {
    "collapsed": true
   },
   "outputs": [],
   "source": [
    "###And the jump operators \n",
    "#We have Lambda which means the decays go 1->2 and 1->3\n",
    "def coll(Gamma2,Gamma3):\n",
    "    return [np.sqrt(Gamma2)*sig21,np.sqrt(Gamma3)*sig31]"
   ]
  },
  {
   "cell_type": "code",
   "execution_count": 97,
   "metadata": {
    "collapsed": true
   },
   "outputs": [],
   "source": [
    "###This function returns the steady state density matrix given the parameters\n",
    "def rhoSS(Omega2,Omega3,Gamma2,Gamma3,Delta2,Delta3):\n",
    "    return qt.steadystate(H(Omega2,Omega3,Delta2,Delta3),coll(Gamma2,Gamma3))\n",
    "\n",
    "def pop2SS(Omega2,Omega3,Gamma2,Gamma3,Delta2,Delta3):\n",
    "    return qt.expect( state2*state2.dag(),rhoSS(Omega2,Omega3,Gamma2,Gamma3,Delta2,Delta3) )\n",
    "\n",
    "def pop3SS(Omega2,Omega3,Gamma2,Gamma3,Delta2,Delta3):\n",
    "    return qt.expect( state3*state3.dag(),rhoSS(Omega2,Omega3,Gamma2,Gamma3,Delta2,Delta3) )\n"
   ]
  },
  {
   "cell_type": "code",
   "execution_count": 129,
   "metadata": {
    "collapsed": true
   },
   "outputs": [],
   "source": [
    "numPoints = 20 \n",
    "minDrive = 0.01\n",
    "maxDrive = 5.0\n",
    "\n",
    "Omega3 = 0.5\n",
    "\n",
    "Gamma = 1.0\n",
    "Delta2 = 2.5\n",
    "Delta3 = -1.5\n",
    "\n",
    "driveList = np.linspace(minDrive,maxDrive,numPoints)\n",
    "\n",
    "pop2SSArray = np.zeros(shape=numPoints)\n",
    "pop3SSArray = np.zeros(shape=numPoints)"
   ]
  },
  {
   "cell_type": "code",
   "execution_count": 130,
   "metadata": {
    "collapsed": true
   },
   "outputs": [],
   "source": [
    "for j in np.arange(numPoints):\n",
    "    pop2SSArray[j] = pop2SS(driveList[j],Omega3,Gamma,Gamma,Delta2,Delta3)\n",
    "    pop3SSArray[j] = pop3SS(driveList[j],Omega3,Gamma,Gamma,Delta2,Delta3)"
   ]
  },
  {
   "cell_type": "code",
   "execution_count": 131,
   "metadata": {
    "collapsed": false
   },
   "outputs": [
    {
     "data": {
      "text/plain": [
       "[<matplotlib.lines.Line2D at 0x10f3c3f28>]"
      ]
     },
     "execution_count": 131,
     "metadata": {},
     "output_type": "execute_result"
    }
   ],
   "source": [
    "plt.plot(driveList,pop2SSArray)\n",
    "plt.plot(driveList,pop3SSArray)"
   ]
  },
  {
   "cell_type": "code",
   "execution_count": 132,
   "metadata": {
    "collapsed": false
   },
   "outputs": [
    {
     "data": {
      "image/png": "[encoded data removed]",
      "text/plain": [
       "<matplotlib.figure.Figure at 0x10f3bdf98>"
      ]
     },
     "metadata": {},
     "output_type": "display_data"
    }
   ],
   "source": [
    "plt.show()"
   ]
  },
  {
   "cell_type": "markdown",
   "metadata": {},
   "source": []
  }
 ],
 "metadata": {
  "kernelspec": {
   "display_name": "Python 3",
   "language": "python",
   "name": "python3"
  },
  "language_info": {
   "codemirror_mode": {
    "name": "ipython",
    "version": 3
   },
   "file_extension": ".py",
   "mimetype": "text/x-python",
   "name": "python",
   "nbconvert_exporter": "python",
   "pygments_lexer": "ipython3",
   "version": "3.6.0"
  }
 },
 "nbformat": 4,
 "nbformat_minor": 2
}
