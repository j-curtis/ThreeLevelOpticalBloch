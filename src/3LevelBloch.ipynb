{
 "cells": [
  {
   "cell_type": "code",
   "execution_count": 1,
   "metadata": {
    "collapsed": true
   },
   "outputs": [],
   "source": [
    "import numpy as np\n",
    "import qutip as qt\n",
    "from matplotlib import pyplot as plt"
   ]
  },
  {
   "cell_type": "code",
   "execution_count": 5,
   "metadata": {
    "collapsed": true
   },
   "outputs": [],
   "source": [
    "###Now we define the states/operators of the three level atom\n",
    "state1,state2,state3 = qt.states.qutrit_basis() #These are the three levels of our atom\n",
    "\n",
    "sig12 = state1*state2.dag()\n",
    "sig21 = sig12.dag()\n",
    "sig13 = state1*state3.dag()\n",
    "sig31 = sig13.dag()\n",
    "\n",
    "sig11 = state1*state1.dag()\n",
    "sig22 = state2*state2.dag()\n",
    "sig33 = state3*state3.dag()"
   ]
  },
  {
   "cell_type": "code",
   "execution_count": 4,
   "metadata": {
    "collapsed": false
   },
   "outputs": [],
   "source": [
    "###We now define the Hamiltonian \n",
    "#We first consider the case where there is no detuning; only Rabi couplings\n",
    "#We also start in the Lambda scheme so that the drives are applied as 2->1, 3->1\n",
    "def H(Omega2,Omega3):\n",
    "    return .5*Omega2*(sig12+sig21) + .5*Omega3*(sig13+sig31)"
   ]
  },
  {
   "cell_type": "code",
   "execution_count": 6,
   "metadata": {
    "collapsed": true
   },
   "outputs": [],
   "source": [
    "###And the jump operators \n",
    "#We have Lambda which means the decays go 1->2 and 1->3\n",
    "def coll(Gamma2,Gamma3):\n",
    "    return [np.sqrt(Gamma2)*sig21,np.sqrt(Gamma3)*sig31]"
   ]
  },
  {
   "cell_type": "code",
   "execution_count": 12,
   "metadata": {
    "collapsed": true
   },
   "outputs": [],
   "source": [
    "###This function returns the steady state density matrix given the parameters\n",
    "def rhoSS(Omega2,Omega3,Gamma2,Gamma3):\n",
    "    return qt.steadystate(H(Omega2,Omega3),coll(Gamma2,Gamma3))"
   ]
  },
  {
   "cell_type": "code",
   "execution_count": 13,
   "metadata": {
    "collapsed": true
   },
   "outputs": [],
   "source": [
    "Omega2List = np.linspace(.01,2,5)\n",
    "Omega3List = np.linspace(.01,2,5)"
   ]
  },
  {
   "cell_type": "code",
   "execution_count": 16,
   "metadata": {
    "collapsed": false
   },
   "outputs": [
    {
     "name": "stdout",
     "output_type": "stream",
     "text": [
      "0.5\n",
      "0.99961188599151\n",
      "0.9999010023511942\n",
      "0.9999557052962623\n",
      "0.9999750006249843\n",
      "0.00038811400848989624\n",
      "0.5\n",
      "0.7968128275800861\n",
      "0.897594493178599\n",
      "0.9395060840358833\n",
      "9.899764880567321e-05\n",
      "0.2031871724199138\n",
      "0.4999999999999999\n",
      "0.6908904849800594\n",
      "0.7983992095847825\n",
      "4.4294703737597845e-05\n",
      "0.10240550682140108\n",
      "0.3091095150199405\n",
      "0.5\n",
      "0.6392322820292828\n",
      "2.499937501559968e-05\n",
      "0.06049391596411674\n",
      "0.20160079041521745\n",
      "0.36076771797071716\n",
      "0.5\n"
     ]
    }
   ],
   "source": [
    "for x in Omega2List:\n",
    "    for y in Omega3List:\n",
    "        print( qt.expect( state2*state2.dag(), rhoSS(x,y,1.0,1.0)))"
   ]
  },
  {
   "cell_type": "code",
   "execution_count": null,
   "metadata": {
    "collapsed": true
   },
   "outputs": [],
   "source": []
  }
 ],
 "metadata": {
  "kernelspec": {
   "display_name": "Python 3",
   "language": "python",
   "name": "python3"
  },
  "language_info": {
   "codemirror_mode": {
    "name": "ipython",
    "version": 3
   },
   "file_extension": ".py",
   "mimetype": "text/x-python",
   "name": "python",
   "nbconvert_exporter": "python",
   "pygments_lexer": "ipython3",
   "version": "3.6.0"
  }
 },
 "nbformat": 4,
 "nbformat_minor": 2
}
